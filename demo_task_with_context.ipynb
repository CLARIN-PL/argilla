{
 "cells": [
  {
   "cell_type": "code",
   "execution_count": 3,
   "id": "8f3590cc-f0dd-4bd0-969a-e0d62d11a233",
   "metadata": {},
   "outputs": [
    {
     "name": "stderr",
     "output_type": "stream",
     "text": [
      "/home/artikandri/Work/clarin-pl/argilla/src/argilla/client/client.py:135: UserWarning: No workspace configuration was detected. To work with Argilla datasets, specify a valid workspace name on `rg.init` or set it up through the `rg.set_workspace` function.\n",
      "  warnings.warn(\n"
     ]
    }
   ],
   "source": [
    "import argilla as rg\n",
    "import json\n",
    "import pandas as pd\n",
    "\n",
    "rg.init(api_url=\"http://localhost:6900/\", api_key=\"admin.apikey\")"
   ]
  },
  {
   "cell_type": "code",
   "execution_count": 4,
   "id": "6348d808-8a32-4f78-9bd6-6cb95b9dbc25",
   "metadata": {},
   "outputs": [],
   "source": [
    "file = open('chats-dump-2023-07-13.jsonl', 'r')\n",
    "chat_list = []\n",
    "for line in file:\n",
    "    # Parse each line as a JSON object\n",
    "    json_obj = json.loads(line.strip())\n",
    "    chat_list.append(json_obj)"
   ]
  },
  {
   "cell_type": "code",
   "execution_count": 5,
   "id": "548fd80c-65a1-4ca3-92c2-1150e96c89c7",
   "metadata": {},
   "outputs": [],
   "source": [
    "prompts = []\n",
    "answers = []\n",
    "oids = []\n",
    "timestamps = []\n",
    "\n",
    "for chat in chat_list:\n",
    "    message = chat['messages']\n",
    "    for mess in message:\n",
    "        prompt = mess['prompt']\n",
    "        reply = mess['answer']\n",
    "        prompts.append(prompt)\n",
    "        answers.append(reply)\n",
    "        oids.append(chat['_id']['$oid'])\n",
    "        timestamps.append(mess['timestamp']['$date'])\n",
    "\n",
    "df = pd.DataFrame({'prompt': prompts, 'reply': answers, '_id': oids, 'timestamp': timestamps})"
   ]
  },
  {
   "cell_type": "code",
   "execution_count": 6,
   "id": "33aa1907-98f5-4e4b-bc93-691c742f6c82",
   "metadata": {},
   "outputs": [],
   "source": [
    "prev_context_dict = {}\n",
    "\n",
    "# Iterate through rows\n",
    "prev_contexts = []\n",
    "for _, row in df.iterrows():\n",
    "    _id = row['_id']\n",
    "    if _id not in prev_context_dict:\n",
    "        prev_context_dict[_id] = []\n",
    "\n",
    "    prev_context = \"\\n\\n\".join(prev_context_dict[_id])\n",
    "    prev_contexts.append(prev_context)\n",
    "\n",
    "    # prev_context_dict[_id].append(f\"**Prompt:** {row['prompt']} \\n <div style='text-align: right'> **Reply:** {row['reply']} </div>\")\n",
    "    prev_context_dict[_id].append(f\"**Prompt:** {row['prompt']} \\n  **Reply:** {row['reply']}\")\n",
    "\n",
    "# Add 'prev_context' column to the DataFrame\n",
    "df['prev_context'] = prev_contexts"
   ]
  },
  {
   "cell_type": "code",
   "execution_count": 8,
   "id": "0c5ce80b-942f-40c2-bff8-d6bd1173568f",
   "metadata": {},
   "outputs": [
    {
     "name": "stderr",
     "output_type": "stream",
     "text": [
      "Pushing records to Argilla...: 100%|██████████| 4/4 [00:00<00:00,  5.78it/s]\n"
     ]
    },
    {
     "data": {
      "text/plain": [
       "<FeedbackDataset id=64f1699b-fdee-4da0-bd6b-99cee44ffa05 name=creating-answer-demo-no-prev-context-adjusted-demo workspace=Workspace(id=de99c898-074b-42f2-bb7c-15e25f8efd20, name=argilla, inserted_at=2023-08-18 14:11:56, updated_at=2023-08-18 14:11:56) url=http://localhost:6900/dataset/64f1699b-fdee-4da0-bd6b-99cee44ffa05/annotation-mode fields=[TextField(id=UUID('3ba4f652-2cdc-4a77-aefb-fd5d0be9c56f'), name='context', title='Previous context of current prompt', required=False, type='text', settings={'type': 'text', 'use_markdown': True}, use_markdown=True), TextField(id=UUID('95d1dfce-b975-42c9-b6f8-d945f1748e8e'), name='prompt', title='Current Prompt', required=True, type='text', settings={'type': 'text', 'use_markdown': True}, use_markdown=True)] questions=[TextQuestion(id=UUID('4387e305-ab1a-490c-9989-886da035b30a'), name='reply', title='Reply', description='Provide your reply based on the given prompt', required=True, type='text', settings={'type': 'text', 'use_markdown': False}, use_markdown=False)] guidelines=Given the following prompt, provide an appropriate reply>"
      ]
     },
     "execution_count": 8,
     "metadata": {},
     "output_type": "execute_result"
    }
   ],
   "source": [
    "dataset = rg.FeedbackDataset(\n",
    "    guidelines=\"Given the following prompt, provide an appropriate reply\",\n",
    "    fields=[\n",
    "        rg.TextField(name=\"context\", title='Previous context of current prompt', required=False, use_markdown=True),\n",
    "        rg.TextField(name=\"prompt\", title='Current Prompt', use_markdown=True),\n",
    "    ],\n",
    "    questions=[\n",
    "        rg.TextQuestion(\n",
    "            name=\"reply\",\n",
    "            description=\"Provide your reply based on the given prompt\",\n",
    "            required=True,\n",
    "        ),\n",
    "    ]\n",
    ")\n",
    "#E6E6E6\n",
    "dataset.add_records(\n",
    "    [\n",
    "        rg.FeedbackRecord(\n",
    "            fields={\n",
    "                \"context\": data['prev_context'],\n",
    "                \"prompt\": data['prompt'],\n",
    "                # \"prompt\": f\"<span style='background:#B1B1B1'>{data['prompt']}</span>\",\n",
    "            },\n",
    "            metadata={\"chat_id\": data['_id']},\n",
    "        ) for data in df.head(100).to_dict('records')\n",
    "    ]\n",
    ")\n",
    "dataset.push_to_argilla(name=\"creating-answer-demo-no-prev-context-adjusted-demo\", workspace='argilla')"
   ]
  },
  {
   "cell_type": "code",
   "execution_count": 10,
   "id": "066fe1f4-2eb4-430e-a9ed-7a36645cafcb",
   "metadata": {},
   "outputs": [
    {
     "data": {
      "text/html": [
       "<pre style=\"white-space:pre;overflow-x:auto;line-height:normal;font-family:Menlo,'DejaVu Sans Mono',consolas,'Courier New',monospace\"><span style=\"color: #800000; text-decoration-color: #800000\">╭─────────────────────────────── </span><span style=\"color: #800000; text-decoration-color: #800000; font-weight: bold\">Traceback </span><span style=\"color: #bf7f7f; text-decoration-color: #bf7f7f; font-weight: bold\">(most recent call last)</span><span style=\"color: #800000; text-decoration-color: #800000\"> ────────────────────────────────╮</span>\n",
       "<span style=\"color: #800000; text-decoration-color: #800000\">│</span> in <span style=\"color: #00ff00; text-decoration-color: #00ff00\">&lt;module&gt;</span>:<span style=\"color: #0000ff; text-decoration-color: #0000ff\">22</span>                                                                                   <span style=\"color: #800000; text-decoration-color: #800000\">│</span>\n",
       "<span style=\"color: #800000; text-decoration-color: #800000\">│</span>                                                                                                  <span style=\"color: #800000; text-decoration-color: #800000\">│</span>\n",
       "<span style=\"color: #800000; text-decoration-color: #800000\">│</span>   <span style=\"color: #7f7f7f; text-decoration-color: #7f7f7f\">19 </span><span style=\"color: #7f7f7f; text-decoration-color: #7f7f7f\">│   </span>fields=fields                                                                           <span style=\"color: #800000; text-decoration-color: #800000\">│</span>\n",
       "<span style=\"color: #800000; text-decoration-color: #800000\">│</span>   <span style=\"color: #7f7f7f; text-decoration-color: #7f7f7f\">20 </span>)                                                                                           <span style=\"color: #800000; text-decoration-color: #800000\">│</span>\n",
       "<span style=\"color: #800000; text-decoration-color: #800000\">│</span>   <span style=\"color: #7f7f7f; text-decoration-color: #7f7f7f\">21 </span>                                                                                            <span style=\"color: #800000; text-decoration-color: #800000\">│</span>\n",
       "<span style=\"color: #800000; text-decoration-color: #800000\">│</span> <span style=\"color: #800000; text-decoration-color: #800000\">❱ </span>22 dataset.push_to_argilla(name=<span style=\"color: #808000; text-decoration-color: #808000\">\"ranking-task\"</span>, workspace=<span style=\"color: #808000; text-decoration-color: #808000\">'argilla'</span>)                           <span style=\"color: #800000; text-decoration-color: #800000\">│</span>\n",
       "<span style=\"color: #800000; text-decoration-color: #800000\">│</span>   <span style=\"color: #7f7f7f; text-decoration-color: #7f7f7f\">23 </span>                                                                                            <span style=\"color: #800000; text-decoration-color: #800000\">│</span>\n",
       "<span style=\"color: #800000; text-decoration-color: #800000\">│</span>                                                                                                  <span style=\"color: #800000; text-decoration-color: #800000\">│</span>\n",
       "<span style=\"color: #800000; text-decoration-color: #800000\">│</span> <span style=\"color: #bfbf7f; text-decoration-color: #bfbf7f\">/home/artikandri/Work/clarin-pl/argilla/src/argilla/client/feedback/dataset/</span><span style=\"color: #808000; text-decoration-color: #808000; font-weight: bold\">mixins.py</span>:<span style=\"color: #0000ff; text-decoration-color: #0000ff\">171</span> in     <span style=\"color: #800000; text-decoration-color: #800000\">│</span>\n",
       "<span style=\"color: #800000; text-decoration-color: #800000\">│</span> <span style=\"color: #00ff00; text-decoration-color: #00ff00\">push_to_argilla</span>                                                                                  <span style=\"color: #800000; text-decoration-color: #800000\">│</span>\n",
       "<span style=\"color: #800000; text-decoration-color: #800000\">│</span>                                                                                                  <span style=\"color: #800000; text-decoration-color: #800000\">│</span>\n",
       "<span style=\"color: #800000; text-decoration-color: #800000\">│</span>   <span style=\"color: #7f7f7f; text-decoration-color: #7f7f7f\">168 </span><span style=\"color: #7f7f7f; text-decoration-color: #7f7f7f\">│   │   </span>                                                                                   <span style=\"color: #800000; text-decoration-color: #800000\">│</span>\n",
       "<span style=\"color: #800000; text-decoration-color: #800000\">│</span>   <span style=\"color: #7f7f7f; text-decoration-color: #7f7f7f\">169 </span><span style=\"color: #7f7f7f; text-decoration-color: #7f7f7f\">│   │   </span>dataset = feedback_dataset_in_argilla(name=name, workspace=workspace)              <span style=\"color: #800000; text-decoration-color: #800000\">│</span>\n",
       "<span style=\"color: #800000; text-decoration-color: #800000\">│</span>   <span style=\"color: #7f7f7f; text-decoration-color: #7f7f7f\">170 </span><span style=\"color: #7f7f7f; text-decoration-color: #7f7f7f\">│   │   </span><span style=\"color: #0000ff; text-decoration-color: #0000ff\">if</span> dataset <span style=\"color: #ff00ff; text-decoration-color: #ff00ff\">is</span> <span style=\"color: #ff00ff; text-decoration-color: #ff00ff\">not</span> <span style=\"color: #0000ff; text-decoration-color: #0000ff\">None</span>:                                                            <span style=\"color: #800000; text-decoration-color: #800000\">│</span>\n",
       "<span style=\"color: #800000; text-decoration-color: #800000\">│</span> <span style=\"color: #800000; text-decoration-color: #800000\">❱ </span>171 <span style=\"color: #7f7f7f; text-decoration-color: #7f7f7f\">│   │   │   </span><span style=\"color: #0000ff; text-decoration-color: #0000ff\">raise</span> <span style=\"color: #00ffff; text-decoration-color: #00ffff\">RuntimeError</span>(                                                            <span style=\"color: #800000; text-decoration-color: #800000\">│</span>\n",
       "<span style=\"color: #800000; text-decoration-color: #800000\">│</span>   <span style=\"color: #7f7f7f; text-decoration-color: #7f7f7f\">172 </span><span style=\"color: #7f7f7f; text-decoration-color: #7f7f7f\">│   │   │   │   </span><span style=\"color: #808000; text-decoration-color: #808000\">f\"Dataset with name=`{</span>name<span style=\"color: #808000; text-decoration-color: #808000\">}` and workspace=`{</span>workspace.name<span style=\"color: #808000; text-decoration-color: #808000\">}` already ex</span>   <span style=\"color: #800000; text-decoration-color: #800000\">│</span>\n",
       "<span style=\"color: #800000; text-decoration-color: #800000\">│</span>   <span style=\"color: #7f7f7f; text-decoration-color: #7f7f7f\">173 </span><span style=\"color: #7f7f7f; text-decoration-color: #7f7f7f\">│   │   │   │   </span><span style=\"color: #808000; text-decoration-color: #808000\">\" choose another name and/or workspace.\"</span>                                   <span style=\"color: #800000; text-decoration-color: #800000\">│</span>\n",
       "<span style=\"color: #800000; text-decoration-color: #800000\">│</span>   <span style=\"color: #7f7f7f; text-decoration-color: #7f7f7f\">174 </span><span style=\"color: #7f7f7f; text-decoration-color: #7f7f7f\">│   │   │   </span>)                                                                              <span style=\"color: #800000; text-decoration-color: #800000\">│</span>\n",
       "<span style=\"color: #800000; text-decoration-color: #800000\">╰──────────────────────────────────────────────────────────────────────────────────────────────────╯</span>\n",
       "<span style=\"color: #ff0000; text-decoration-color: #ff0000; font-weight: bold\">RuntimeError: </span>Dataset with <span style=\"color: #808000; text-decoration-color: #808000\">name</span>=`ranking-task` and <span style=\"color: #808000; text-decoration-color: #808000\">workspace</span>=`argilla` already exists in Argilla, please choose \n",
       "another name and/or workspace.\n",
       "</pre>\n"
      ],
      "text/plain": [
       "\u001b[31m╭─\u001b[0m\u001b[31m──────────────────────────────\u001b[0m\u001b[31m \u001b[0m\u001b[1;31mTraceback \u001b[0m\u001b[1;2;31m(most recent call last)\u001b[0m\u001b[31m \u001b[0m\u001b[31m───────────────────────────────\u001b[0m\u001b[31m─╮\u001b[0m\n",
       "\u001b[31m│\u001b[0m in \u001b[92m<module>\u001b[0m:\u001b[94m22\u001b[0m                                                                                   \u001b[31m│\u001b[0m\n",
       "\u001b[31m│\u001b[0m                                                                                                  \u001b[31m│\u001b[0m\n",
       "\u001b[31m│\u001b[0m   \u001b[2m19 \u001b[0m\u001b[2m│   \u001b[0mfields=fields                                                                           \u001b[31m│\u001b[0m\n",
       "\u001b[31m│\u001b[0m   \u001b[2m20 \u001b[0m)                                                                                           \u001b[31m│\u001b[0m\n",
       "\u001b[31m│\u001b[0m   \u001b[2m21 \u001b[0m                                                                                            \u001b[31m│\u001b[0m\n",
       "\u001b[31m│\u001b[0m \u001b[31m❱ \u001b[0m22 dataset.push_to_argilla(name=\u001b[33m\"\u001b[0m\u001b[33mranking-task\u001b[0m\u001b[33m\"\u001b[0m, workspace=\u001b[33m'\u001b[0m\u001b[33margilla\u001b[0m\u001b[33m'\u001b[0m)                           \u001b[31m│\u001b[0m\n",
       "\u001b[31m│\u001b[0m   \u001b[2m23 \u001b[0m                                                                                            \u001b[31m│\u001b[0m\n",
       "\u001b[31m│\u001b[0m                                                                                                  \u001b[31m│\u001b[0m\n",
       "\u001b[31m│\u001b[0m \u001b[2;33m/home/artikandri/Work/clarin-pl/argilla/src/argilla/client/feedback/dataset/\u001b[0m\u001b[1;33mmixins.py\u001b[0m:\u001b[94m171\u001b[0m in     \u001b[31m│\u001b[0m\n",
       "\u001b[31m│\u001b[0m \u001b[92mpush_to_argilla\u001b[0m                                                                                  \u001b[31m│\u001b[0m\n",
       "\u001b[31m│\u001b[0m                                                                                                  \u001b[31m│\u001b[0m\n",
       "\u001b[31m│\u001b[0m   \u001b[2m168 \u001b[0m\u001b[2m│   │   \u001b[0m                                                                                   \u001b[31m│\u001b[0m\n",
       "\u001b[31m│\u001b[0m   \u001b[2m169 \u001b[0m\u001b[2m│   │   \u001b[0mdataset = feedback_dataset_in_argilla(name=name, workspace=workspace)              \u001b[31m│\u001b[0m\n",
       "\u001b[31m│\u001b[0m   \u001b[2m170 \u001b[0m\u001b[2m│   │   \u001b[0m\u001b[94mif\u001b[0m dataset \u001b[95mis\u001b[0m \u001b[95mnot\u001b[0m \u001b[94mNone\u001b[0m:                                                            \u001b[31m│\u001b[0m\n",
       "\u001b[31m│\u001b[0m \u001b[31m❱ \u001b[0m171 \u001b[2m│   │   │   \u001b[0m\u001b[94mraise\u001b[0m \u001b[96mRuntimeError\u001b[0m(                                                            \u001b[31m│\u001b[0m\n",
       "\u001b[31m│\u001b[0m   \u001b[2m172 \u001b[0m\u001b[2m│   │   │   │   \u001b[0m\u001b[33mf\u001b[0m\u001b[33m\"\u001b[0m\u001b[33mDataset with name=`\u001b[0m\u001b[33m{\u001b[0mname\u001b[33m}\u001b[0m\u001b[33m` and workspace=`\u001b[0m\u001b[33m{\u001b[0mworkspace.name\u001b[33m}\u001b[0m\u001b[33m` already ex\u001b[0m   \u001b[31m│\u001b[0m\n",
       "\u001b[31m│\u001b[0m   \u001b[2m173 \u001b[0m\u001b[2m│   │   │   │   \u001b[0m\u001b[33m\"\u001b[0m\u001b[33m choose another name and/or workspace.\u001b[0m\u001b[33m\"\u001b[0m                                   \u001b[31m│\u001b[0m\n",
       "\u001b[31m│\u001b[0m   \u001b[2m174 \u001b[0m\u001b[2m│   │   │   \u001b[0m)                                                                              \u001b[31m│\u001b[0m\n",
       "\u001b[31m╰──────────────────────────────────────────────────────────────────────────────────────────────────╯\u001b[0m\n",
       "\u001b[1;91mRuntimeError: \u001b[0mDataset with \u001b[33mname\u001b[0m=`ranking-task` and \u001b[33mworkspace\u001b[0m=`argilla` already exists in Argilla, please choose \n",
       "another name and/or workspace.\n"
      ]
     },
     "metadata": {},
     "output_type": "display_data"
    }
   ],
   "source": [
    "\n",
    "questions = [\n",
    "    rg.RankingQuestion(\n",
    "        name=\"response_ranking\",\n",
    "        title=\"Order the responses based on their accuracy and helpfulness:\",\n",
    "        required=True,\n",
    "        values={\"response-1\": \"Response 1\", \"response-2\": \"Response 2\"} # or [\"response-1\", \"response-2\"]\n",
    "    ),\n",
    "    rg.RankingQuestion(\n",
    "        name=\"response_ranking\",\n",
    "        title=\"Order the responses based on their accuracy and helpfulness:\",\n",
    "        required=True,\n",
    "        values={\"response-1\": \"Response 1\", \"response-2\": \"Response 2\"} # or [\"response-1\", \"response-2\"]\n",
    "    ),\n",
    "    rg.RankingQuestion(\n",
    "        name=\"response_ranking\",\n",
    "        title=\"Order the responses based on their accuracy and helpfulness:\",\n",
    "        required=True,\n",
    "        values={\"response-1\": \"Response 1\", \"response-2\": \"Response 2\"} # or [\"response-1\", \"response-2\"]\n",
    "    )\n",
    "]\n",
    "\n",
    "fields = [\n",
    "    rg.TextField(name=\"prompt\", required=True),\n",
    "    rg.TextField(name=\"response-1\", required=True),\n",
    "    rg.TextField(name=\"response-2\", required=True)\n",
    "]\n",
    "\n",
    "dataset = rg.FeedbackDataset(\n",
    "\tguidelines=\"Please, read the prompt carefully and...\",\n",
    "\tquestions=questions,\n",
    "\tfields=fields\n",
    ")\n",
    "\n",
    "dataset.push_to_argilla(name=\"ranking-task\", workspace='argilla')\n"
   ]
  }
 ],
 "metadata": {
  "kernelspec": {
   "display_name": "Python 3 (ipykernel)",
   "language": "python",
   "name": "python3"
  },
  "language_info": {
   "codemirror_mode": {
    "name": "ipython",
    "version": 3
   },
   "file_extension": ".py",
   "mimetype": "text/x-python",
   "name": "python",
   "nbconvert_exporter": "python",
   "pygments_lexer": "ipython3",
   "version": "3.10.6"
  }
 },
 "nbformat": 4,
 "nbformat_minor": 5
}
